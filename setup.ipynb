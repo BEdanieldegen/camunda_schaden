{
 "cells": [
  {
   "cell_type": "markdown",
   "metadata": {},
   "source": [
    "# API-Endpoint of Camunda\n",
    "#### https://docs.camunda.org/rest/camunda-bpm-platform/7.21/"
   ]
  },
  {
   "cell_type": "markdown",
   "metadata": {},
   "source": [
    "## Agenda\n",
    "### Step 1: Understand API within Camunda\n",
    "##### - Communicate with Process Engine\n",
    "##### - Retrieve Information\n",
    "##### - Post Information\n",
    "### Step 2: Make Camunda communicate with database\n",
    "##### - Create some database (Schaden und Bestand)\n",
    "##### - Retrieve Info from Camunda and write it into database\n",
    "##### - Retrieve info from database and post it to Camunda and start a workflow"
   ]
  },
  {
   "cell_type": "code",
   "execution_count": 1,
   "metadata": {},
   "outputs": [],
   "source": [
    "import json\n",
    "import requests\n",
    "import pprint\n"
   ]
  },
  {
   "cell_type": "code",
   "execution_count": 10,
   "metadata": {},
   "outputs": [],
   "source": [
    "# Define the Camunda REST API endpoint\n",
    "url = 'http://localhost:8084/engine-rest/engine'\n",
    "#url = 'http://localhost:8081/engine-rest/deployment'\n",
    "headers = {'Accept': 'application/json'}\n",
    "\n",
    "# Make the GET request\n",
    "response = requests.get(url)"
   ]
  },
  {
   "cell_type": "code",
   "execution_count": 11,
   "metadata": {},
   "outputs": [
    {
     "data": {
      "text/plain": [
       "<Response [200]>"
      ]
     },
     "execution_count": 11,
     "metadata": {},
     "output_type": "execute_result"
    }
   ],
   "source": [
    "response"
   ]
  },
  {
   "cell_type": "code",
   "execution_count": 12,
   "metadata": {},
   "outputs": [
    {
     "name": "stdout",
     "output_type": "stream",
     "text": [
      "(b'<!DOCTYPE html PUBLIC \"-//W3C//DTD XHTML 1.0 Transitional//EN\"  \"http://www.'\n",
      " b'w3.org/TR/xhtml1/DTD/xhtml1-transitional.dtd\">\\n<html xmlns=\"http://www.w'\n",
      " b'3.org/1999/xhtml\" class=\"\">\\n\\n<head>\\n    <meta charset=\"utf-8\">\\n    <meta'\n",
      " b' http-equiv=\"Content-Type\" content=\"text/html; charset=UTF-8\" />\\n    <me'\n",
      " b'ta name=\"robots\" content=\"noindex, nofollow\">\\n\\n    <title>Log in to camu'\n",
      " b'nda-platform</title>\\n    <link rel=\"icon\" href=\"/auth/resources/iujrd/lo'\n",
      " b'gin/identity/img/favicon.ico\" />\\n            <link href=\"/auth/resources'\n",
      " b'/iujrd/login/identity/css/identity.min.css\" rel=\"stylesheet\" />\\n        '\n",
      " b'    <link href=\"/auth/resources/iujrd/login/identity/css/login.css\" rel=\"sty'\n",
      " b'lesheet\" />\\n            <script src=\"/auth/resources/iujrd/login/identit'\n",
      " b'y/js/login.js\" type=\"text/javascript\"></script>\\n</head>\\n\\n<body class=\"\">'\n",
      " b'\\n<div class=\"\">\\n    <header aria-label=\"Page header\" class=\"cds--header\"'\n",
      " b'>\\n        <a class=\"cds--header__name\">\\n            <span class=\"cds--he'\n",
      " b'ader__name--prefix\">Camunda</span>\\n            &nbsp;\\n            Identi'\n",
      " b'ty\\n        </a>\\n    </header>\\n    <div class=\" login-box\">\\n        <head'\n",
      " b'er class=\"\">\\n                <h1 id=\"kc-page-title\" class=\"cds--heading\"'\n",
      " b'>        Log in\\n</h1>\\n      </header>\\n      <div id=\"kc-content\">\\n      '\n",
      " b'  <div id=\"kc-content-wrapper\">\\n\\n\\n        <div id=\"kc-form\">\\n           '\n",
      " b' <div id=\"kc-form-wrapper\">\\n                    <form id=\"kc-form-login\"'\n",
      " b' onsubmit=\"login.disabled = true; return true;\" action=\"http://localhost:180'\n",
      " b'80/auth/realms/camunda-platform/login-actions/authenticate?session_code=7May'\n",
      " b'jCIYIFvnkifNnNCsntShadd0VDrCKXc9-X74efs&amp;execution=6ede9a35-d5f3-43f1-b90'\n",
      " b'f-5e3388aca9bd&amp;client_id=camunda-identity&amp;tab_id=dSxFIqSWlNc\" method'\n",
      " b'=\"post\">\\n                        <div class=\" cds--text-input-wrapper\">\\n'\n",
      " b'                            <label for=\"username\" class=\"\">Username or email'\n",
      " b'</label>\\n                                <div class=\"cds--input__field-o'\n",
      " b'uter-wrapper\">\\n                                    <div class=\"cds--text'\n",
      " b'-input__field-wrapper\" data-invalid=\"\">\\n                                '\n",
      " b'        <input id=\"username\" class=\" \" name=\"username\" value=\"\"  type=\"text\"'\n",
      " b' autofocus autocomplete=\"off\"\\n                                          '\n",
      " b'  aria-invalid=\"\"\\n                                            \\n         '\n",
      " b'                               />\\n                                    </'\n",
      " b'div>\\n\\n                                </div>\\n                        </d'\n",
      " b'iv>\\n\\n                        <div class=\" cds--text-input-wrapper\">\\n    '\n",
      " b'                        <div class=\"input-label-row\">\\n                  '\n",
      " b'              <label for=\"password\" class=\"\">Password</label>\\n          '\n",
      " b'                      <div class=\"\">\\n                                </d'\n",
      " b'iv>\\n                            </div>\\n                            <div '\n",
      " b'class=\"cds--text-input__field-wrapper\" data-invalid=\"\">\\n                '\n",
      " b'                <input id=\"password\" class=\"\" name=\"password\" type=\"password'\n",
      " b'\" autocomplete=\"off\"\\n                                    aria-invalid=\"\"'\n",
      " b'\\n                                    \\n                                />'\n",
      " b'\\n                            </div>\\n                        </div>\\n\\n    '\n",
      " b'                    <div class=\" \">\\n                            <div id='\n",
      " b'\"kc-form-options\">\\n                            </div>\\n                  '\n",
      " b'      </div>\\n                        <div id=\"kc-form-buttons\" class=\"\">'\n",
      " b'\\n                            <input type=\"hidden\" id=\"id-hidden-input\" n'\n",
      " b'ame=\"credentialId\" value=\"\" />\\n                            <button class'\n",
      " b'=\"   \" name=\"login\" id=\"kc-login\" type=\"submit\">\\n                       '\n",
      " b'         Log in\\n                                <svg width=\"16\" height=\"'\n",
      " b'16\" fill=\"currentColor\" fill-rule=\"evenodd\" class=\"cds--btn__icon\" viewBox=\"'\n",
      " b'0 0 22 22\">\\n                                    <path d=\"M11.95 5.997L7.'\n",
      " b'86 2.092 9.233.639l6.763 6.356-6.763 6.366L7.86 11.91l4.092-3.912H-.003v-2h1'\n",
      " b'1.952z\" fill-rule=\"nonzero\" transform=\"translate(4,4)\" />\\n              '\n",
      " b'                  </svg>\\n                            </button>\\n         '\n",
      " b'               </div>\\n                    </form>\\n            </div>\\n   '\n",
      " b'         <div class=\"social-providers\">\\n            </div>\\n        </div'\n",
      " b'>\\n\\n\\n        </div>\\n      </div>\\n\\n    </div>\\n  </div>\\n</body>\\n</h'\n",
      " b'tml>\\n')\n"
     ]
    }
   ],
   "source": [
    "pprint.pp(response.content)"
   ]
  },
  {
   "cell_type": "code",
   "execution_count": null,
   "metadata": {},
   "outputs": [],
   "source": [
    "pprint.pp(response.json)"
   ]
  },
  {
   "cell_type": "code",
   "execution_count": 13,
   "metadata": {},
   "outputs": [
    {
     "name": "stdout",
     "output_type": "stream",
     "text": [
      "200\n"
     ]
    }
   ],
   "source": [
    "pprint.pp(response.status_code)"
   ]
  },
  {
   "cell_type": "code",
   "execution_count": 16,
   "metadata": {},
   "outputs": [
    {
     "data": {
      "text/plain": [
       "<bound method Response.json of <Response [200]>>"
      ]
     },
     "execution_count": 16,
     "metadata": {},
     "output_type": "execute_result"
    }
   ],
   "source": [
    "response.json"
   ]
  },
  {
   "cell_type": "code",
   "execution_count": null,
   "metadata": {},
   "outputs": [],
   "source": [
    "#http://localhost:8081/{contextPath}/\n",
    "url = 'http://localhost:8081/engine-rest/process-definition/key/Process_1durwlm/start'\n",
    "response = requests.get(url, headers={'Accept': 'application/json'})\n",
    "response"
   ]
  },
  {
   "cell_type": "code",
   "execution_count": 17,
   "metadata": {},
   "outputs": [],
   "source": [
    "url = 'http://localhost:8084/engine-rest/task'"
   ]
  },
  {
   "cell_type": "code",
   "execution_count": 18,
   "metadata": {},
   "outputs": [],
   "source": [
    "response = requests.get(url)"
   ]
  },
  {
   "cell_type": "code",
   "execution_count": 19,
   "metadata": {},
   "outputs": [
    {
     "name": "stdout",
     "output_type": "stream",
     "text": [
      "(b'<!DOCTYPE html PUBLIC \"-//W3C//DTD XHTML 1.0 Transitional//EN\"  \"http://www.'\n",
      " b'w3.org/TR/xhtml1/DTD/xhtml1-transitional.dtd\">\\n<html xmlns=\"http://www.w'\n",
      " b'3.org/1999/xhtml\" class=\"\">\\n\\n<head>\\n    <meta charset=\"utf-8\">\\n    <meta'\n",
      " b' http-equiv=\"Content-Type\" content=\"text/html; charset=UTF-8\" />\\n    <me'\n",
      " b'ta name=\"robots\" content=\"noindex, nofollow\">\\n\\n    <title>Log in to camu'\n",
      " b'nda-platform</title>\\n    <link rel=\"icon\" href=\"/auth/resources/iujrd/lo'\n",
      " b'gin/identity/img/favicon.ico\" />\\n            <link href=\"/auth/resources'\n",
      " b'/iujrd/login/identity/css/identity.min.css\" rel=\"stylesheet\" />\\n        '\n",
      " b'    <link href=\"/auth/resources/iujrd/login/identity/css/login.css\" rel=\"sty'\n",
      " b'lesheet\" />\\n            <script src=\"/auth/resources/iujrd/login/identit'\n",
      " b'y/js/login.js\" type=\"text/javascript\"></script>\\n</head>\\n\\n<body class=\"\">'\n",
      " b'\\n<div class=\"\">\\n    <header aria-label=\"Page header\" class=\"cds--header\"'\n",
      " b'>\\n        <a class=\"cds--header__name\">\\n            <span class=\"cds--he'\n",
      " b'ader__name--prefix\">Camunda</span>\\n            &nbsp;\\n            Identi'\n",
      " b'ty\\n        </a>\\n    </header>\\n    <div class=\" login-box\">\\n        <head'\n",
      " b'er class=\"\">\\n                <h1 id=\"kc-page-title\" class=\"cds--heading\"'\n",
      " b'>        Log in\\n</h1>\\n      </header>\\n      <div id=\"kc-content\">\\n      '\n",
      " b'  <div id=\"kc-content-wrapper\">\\n\\n\\n        <div id=\"kc-form\">\\n           '\n",
      " b' <div id=\"kc-form-wrapper\">\\n                    <form id=\"kc-form-login\"'\n",
      " b' onsubmit=\"login.disabled = true; return true;\" action=\"http://localhost:180'\n",
      " b'80/auth/realms/camunda-platform/login-actions/authenticate?session_code=XzdG'\n",
      " b'i0hhjwV9rpN_qV_k2zBh5Hb8_qm1tkdInBQpcug&amp;execution=6ede9a35-d5f3-43f1-b90'\n",
      " b'f-5e3388aca9bd&amp;client_id=camunda-identity&amp;tab_id=kSrWiuuunLw\" method'\n",
      " b'=\"post\">\\n                        <div class=\" cds--text-input-wrapper\">\\n'\n",
      " b'                            <label for=\"username\" class=\"\">Username or email'\n",
      " b'</label>\\n                                <div class=\"cds--input__field-o'\n",
      " b'uter-wrapper\">\\n                                    <div class=\"cds--text'\n",
      " b'-input__field-wrapper\" data-invalid=\"\">\\n                                '\n",
      " b'        <input id=\"username\" class=\" \" name=\"username\" value=\"\"  type=\"text\"'\n",
      " b' autofocus autocomplete=\"off\"\\n                                          '\n",
      " b'  aria-invalid=\"\"\\n                                            \\n         '\n",
      " b'                               />\\n                                    </'\n",
      " b'div>\\n\\n                                </div>\\n                        </d'\n",
      " b'iv>\\n\\n                        <div class=\" cds--text-input-wrapper\">\\n    '\n",
      " b'                        <div class=\"input-label-row\">\\n                  '\n",
      " b'              <label for=\"password\" class=\"\">Password</label>\\n          '\n",
      " b'                      <div class=\"\">\\n                                </d'\n",
      " b'iv>\\n                            </div>\\n                            <div '\n",
      " b'class=\"cds--text-input__field-wrapper\" data-invalid=\"\">\\n                '\n",
      " b'                <input id=\"password\" class=\"\" name=\"password\" type=\"password'\n",
      " b'\" autocomplete=\"off\"\\n                                    aria-invalid=\"\"'\n",
      " b'\\n                                    \\n                                />'\n",
      " b'\\n                            </div>\\n                        </div>\\n\\n    '\n",
      " b'                    <div class=\" \">\\n                            <div id='\n",
      " b'\"kc-form-options\">\\n                            </div>\\n                  '\n",
      " b'      </div>\\n                        <div id=\"kc-form-buttons\" class=\"\">'\n",
      " b'\\n                            <input type=\"hidden\" id=\"id-hidden-input\" n'\n",
      " b'ame=\"credentialId\" value=\"\" />\\n                            <button class'\n",
      " b'=\"   \" name=\"login\" id=\"kc-login\" type=\"submit\">\\n                       '\n",
      " b'         Log in\\n                                <svg width=\"16\" height=\"'\n",
      " b'16\" fill=\"currentColor\" fill-rule=\"evenodd\" class=\"cds--btn__icon\" viewBox=\"'\n",
      " b'0 0 22 22\">\\n                                    <path d=\"M11.95 5.997L7.'\n",
      " b'86 2.092 9.233.639l6.763 6.356-6.763 6.366L7.86 11.91l4.092-3.912H-.003v-2h1'\n",
      " b'1.952z\" fill-rule=\"nonzero\" transform=\"translate(4,4)\" />\\n              '\n",
      " b'                  </svg>\\n                            </button>\\n         '\n",
      " b'               </div>\\n                    </form>\\n            </div>\\n   '\n",
      " b'         <div class=\"social-providers\">\\n            </div>\\n        </div'\n",
      " b'>\\n\\n\\n        </div>\\n      </div>\\n\\n    </div>\\n  </div>\\n</body>\\n</h'\n",
      " b'tml>\\n')\n"
     ]
    }
   ],
   "source": [
    "pprint.pp(response.content)"
   ]
  },
  {
   "cell_type": "code",
   "execution_count": 148,
   "metadata": {},
   "outputs": [],
   "source": [
    "url = 'http://localhost:8081/engine-rest/deployment/create'"
   ]
  },
  {
   "cell_type": "code",
   "execution_count": 230,
   "metadata": {},
   "outputs": [],
   "source": [
    "url = 'http://localhost:8082/engine-rest/task'"
   ]
  },
  {
   "cell_type": "code",
   "execution_count": 231,
   "metadata": {},
   "outputs": [],
   "source": [
    "response = requests.get(url)"
   ]
  },
  {
   "cell_type": "code",
   "execution_count": null,
   "metadata": {},
   "outputs": [],
   "source": [
    "response.content"
   ]
  },
  {
   "cell_type": "code",
   "execution_count": null,
   "metadata": {},
   "outputs": [],
   "source": [
    "response.content"
   ]
  },
  {
   "cell_type": "code",
   "execution_count": null,
   "metadata": {},
   "outputs": [],
   "source": [
    "response"
   ]
  },
  {
   "cell_type": "code",
   "execution_count": null,
   "metadata": {},
   "outputs": [],
   "source": []
  }
 ],
 "metadata": {
  "kernelspec": {
   "display_name": ".venv",
   "language": "python",
   "name": "python3"
  },
  "language_info": {
   "codemirror_mode": {
    "name": "ipython",
    "version": 3
   },
   "file_extension": ".py",
   "mimetype": "text/x-python",
   "name": "python",
   "nbconvert_exporter": "python",
   "pygments_lexer": "ipython3",
   "version": "3.12.7"
  }
 },
 "nbformat": 4,
 "nbformat_minor": 2
}
